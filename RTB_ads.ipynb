{
 "cells": [
  {
   "cell_type": "markdown",
   "id": "7a739d6c-0059-422a-98e8-375ce0e1c122",
   "metadata": {
    "tags": []
   },
   "source": [
    "# Data Assignment - Arpeely\n",
    "**Submitted by**: Ben Hevrony  \n",
    "**Date**: September 18, 2022"
   ]
  },
  {
   "cell_type": "code",
   "execution_count": 1,
   "id": "889bdd80-ea83-4030-9c8a-6edfec965565",
   "metadata": {
    "jupyter": {
     "source_hidden": true
    },
    "scrolled": true,
    "tags": []
   },
   "outputs": [],
   "source": [
    "import numpy as np\n",
    "import pandas as pd\n",
    "from matplotlib import pyplot as plt\n",
    "from matplotlib import ticker\n",
    "from us import states\n",
    "\n",
    "with open('data_assignment.csv', newline='', encoding='utf8') as file:\n",
    "    df = pd.read_csv(file, header=0, dtype={'postal_code': str}, parse_dates=['time'])\n",
    "\n",
    "df['local_time'] = df.apply(\n",
    "    lambda x: x['time'].astimezone(states.lookup(x['state_code']).time_zones[0]) if x['state_code'] is not np.nan else np.nan,\n",
    "    axis=1)\n",
    "df['local_hour'] = df.apply(\n",
    "    lambda x: x['time'].astimezone(states.lookup(x['state_code']).time_zones[0]).hour if x['state_code'] is not np.nan else np.nan,\n",
    "    axis=1)\n",
    "df['device_type']=df['device_type'].str.replace('_',' ').str.title()"
   ]
  },
  {
   "cell_type": "markdown",
   "id": "de743b8a-7e65-49c3-ab43-7ce730dd8a74",
   "metadata": {
    "tags": []
   },
   "source": [
    "# 1. Characterization"
   ]
  },
  {
   "cell_type": "markdown",
   "id": "9be9aa38-c162-4153-a845-8f856950a720",
   "metadata": {
    "tags": []
   },
   "source": [
    "## Metadata"
   ]
  },
  {
   "cell_type": "code",
   "execution_count": 2,
   "id": "b908f8c2-1f20-4678-8cec-42028b6cee4f",
   "metadata": {
    "jupyter": {
     "source_hidden": true
    },
    "tags": []
   },
   "outputs": [
    {
     "name": "stdout",
     "output_type": "stream",
     "text": [
      "<class 'pandas.core.frame.DataFrame'>\n",
      "RangeIndex: 249232 entries, 0 to 249231\n",
      "Data columns (total 28 columns):\n",
      " #   Column                Non-Null Count   Dtype              \n",
      "---  ------                --------------   -----              \n",
      " 0   time                  249232 non-null  datetime64[ns, UTC]\n",
      " 1   user_id               249232 non-null  object             \n",
      " 2   domain                249222 non-null  object             \n",
      " 3   url                   249232 non-null  object             \n",
      " 4   ad_slot               249232 non-null  object             \n",
      " 5   country               249232 non-null  object             \n",
      " 6   postal_code           201974 non-null  object             \n",
      " 7   state_code            240773 non-null  object             \n",
      " 8   city                  236697 non-null  object             \n",
      " 9   user_agent            249194 non-null  object             \n",
      " 10  cookie_age_seconds    249232 non-null  int64              \n",
      " 11  detected_language     249033 non-null  object             \n",
      " 12  device_type           249232 non-null  object             \n",
      " 13  device_brand          111686 non-null  object             \n",
      " 14  device_model          111687 non-null  object             \n",
      " 15  screen_orientation    249232 non-null  object             \n",
      " 16  publisher_properties  249164 non-null  object             \n",
      " 17  is_wifi               249232 non-null  int64              \n",
      " 18  viewability           249232 non-null  int64              \n",
      " 19  session_depth         249232 non-null  int64              \n",
      " 20  auction_type          249232 non-null  object             \n",
      " 21  bidded                249232 non-null  int64              \n",
      " 22  bid                   124152 non-null  float64            \n",
      " 23  won_bid               124152 non-null  float64            \n",
      " 24  feedback_bid          124150 non-null  float64            \n",
      " 25  conversion            124152 non-null  float64            \n",
      " 26  local_time            240773 non-null  object             \n",
      " 27  local_hour            240773 non-null  float64            \n",
      "dtypes: datetime64[ns, UTC](1), float64(5), int64(5), object(17)\n",
      "memory usage: 53.2+ MB\n"
     ]
    }
   ],
   "source": [
    "df.info()"
   ]
  },
  {
   "cell_type": "markdown",
   "id": "2734726f-6b87-428c-be19-16ee2615e275",
   "metadata": {
    "jp-MarkdownHeadingCollapsed": true,
    "tags": []
   },
   "source": [
    "As can be seen in the printout above, the dataset has roughly 250k records and 28 columns (after creation of local time discused below). The printout also provides data types which are clues regarding the data in each column. It should be noted that properly importing the CSV file allowed the time column to be a pandas datetime object which is important for its methods in the next section."
   ]
  },
  {
   "cell_type": "markdown",
   "id": "1aa5f00a-1884-4b6b-8257-01fa0fec8ee0",
   "metadata": {
    "tags": []
   },
   "source": [
    "## Local Time"
   ]
  },
  {
   "cell_type": "markdown",
   "id": "7fed8eb1-9251-41be-bfe9-3286bc7a4c7b",
   "metadata": {
    "jp-MarkdownHeadingCollapsed": true,
    "tags": []
   },
   "source": [
    "As a first step towards analyzing the data I chose to look at correlations with regards to local time. The US Python library has a useful lookup tool that includes timezones which allows for easy conversion of UTC times to local times using state codes. Some states lie in two timezones, the first time zone was taken as there is little difference between adjacent timezones. The hour of day was also extracted in this process into a separate column. There are no records which reside in a country other than US; therefore, for the purposes of this dataset the US Python library is sufficient. Note that the consequences of this is that the data is heavily biased towards users from the US, and any conclusion drawn must take this into account.\n",
    "\n",
    "\n",
    "The target is to analyze impressions and conversions as functions of hour of day. The first step is to slice the dataframe into the relevant columns (local hour and conversion) and cast data types to more easily handle the columns later on. Records containing a np.nan (or NA) object in the time column were ones which had no state code associated with the user and therefore could provide no insight with respect to daily time distributions. Records with an NA under conversion are ambiguous and assumed to have no data associated with them. The above discussed classes of records are to be removed from consideration. It should be noted, however, that in doing so approximately 8500 records would be purged due to the former condition and approximately 120k due to the latter.\n",
    "The former condition is negligible in terms of its effect on skewing results. The latter, however, is far from negligible in size and consequently in its ultimate effect on skewin the results. In cases of such ambiguity, one may decide to simulate best/worst case scenarios and estimate the actual results somewhere in between. For this reason, only NA records in local time will be purged and NA records in conversion will be assumed to have a value of 0 to simulate the worst case scenario."
   ]
  },
  {
   "cell_type": "code",
   "execution_count": 3,
   "id": "183c428d-1886-4b00-9102-bcfbbb7d8909",
   "metadata": {
    "jupyter": {
     "source_hidden": true
    },
    "tags": []
   },
   "outputs": [
    {
     "name": "stdout",
     "output_type": "stream",
     "text": [
      "120424 records contain an NA value in the conversion column and a non-NA value in the state_code column.\n",
      "8459 records contain an NA value in the state_code column.\n"
     ]
    }
   ],
   "source": [
    "filt = df['conversion'].isna() & (~df['state_code'].isna())\n",
    "print(f'{len(df[filt])} records contain an NA value in the conversion column and a non-NA value in the state_code column.')\n",
    "print(f'{len(df[df[\"state_code\"].isna()])} records contain an NA value in the state_code column.')"
   ]
  },
  {
   "cell_type": "code",
   "execution_count": 4,
   "id": "2a299cf6-8f41-461f-b5da-8d4322f1fb4f",
   "metadata": {
    "jupyter": {
     "source_hidden": true
    },
    "tags": []
   },
   "outputs": [
    {
     "data": {
      "image/png": "[encoded data removed]",
      "text/plain": [
       "<Figure size 1000x2000 with 3 Axes>"
      ]
     },
     "metadata": {},
     "output_type": "display_data"
    }
   ],
   "source": [
    "time_fig,time_ax = plt.subplots(3,1,sharex='col',figsize=(10,20));\n",
    "time_conv = df[['local_hour','conversion']].dropna(subset=['local_hour']).fillna(0)\n",
    "time_conv.astype(int,copy=False)\n",
    "\n",
    "\n",
    "time_hist = time_conv['local_hour'].plot(zorder=3,kind='hist',bins=np.arange(-0.5,24.5,1),xticks=np.arange(0,24,1),rot=0,width=0.8,ax=time_ax[0])\n",
    "time_hist.title.set_text('Impressions by local time')\n",
    "time_hist.minorticks_on()\n",
    "time_hist.set_xlabel('Hour')\n",
    "time_hist.set_ylabel('# of Impressions')\n",
    "time_hist.grid(which='minor',axis='y',color='DarkGray',zorder=0)\n",
    "time_hist.grid(which='major',axis='y',color='k',zorder=0)\n",
    "\n",
    "\n",
    "\n",
    "time_hist_conv = time_conv[time_conv['conversion'] == 1]['local_hour'].plot(zorder=3,kind='hist',bins=np.arange(-0.5,24.5,1),xticks=np.arange(0,24,1),rot=0,width=0.8,ax=time_ax[1])\n",
    "time_hist_conv.title.set_text('Conversions by local time')\n",
    "time_hist_conv.minorticks_on()\n",
    "time_hist_conv.set_xlabel('Hour')\n",
    "time_hist_conv.set_ylabel('# of Conversions')\n",
    "time_hist_conv.grid(which='minor',axis='y',color='DarkGray',zorder=0)\n",
    "time_hist_conv.grid(which='major',axis='y',color='k',zorder=0)\n",
    "\n",
    "\n",
    "\n",
    "hourly_imps = time_conv['local_hour'].value_counts().sort_index()\n",
    "hourly_conv = time_conv['local_hour'][time_conv['conversion']==1].value_counts().sort_index()\n",
    "\n",
    "hour_totals = pd.concat([hourly_conv,hourly_imps],axis=1)\n",
    "hour_totals.columns = ['Conversions','Impressions']\n",
    "hour_totals['conversion_rate'] = hour_totals['Conversions']/hour_totals['Impressions']\n",
    "conv_rate_bar = hour_totals['conversion_rate'].plot(kind='bar',xticks=np.arange(0,24,1),rot=0,width=0.8,zorder=3,ax=time_ax[2])\n",
    "conv_rate_bar.title.set_text('Conversion rate by local time')\n",
    "conv_rate_bar.minorticks_on()\n",
    "conv_rate_bar.yaxis.set_major_formatter(ticker.PercentFormatter(1,decimals=1))\n",
    "conv_rate_bar.set_xlabel('Hour')\n",
    "conv_rate_bar.set_ylabel('Hourly Conversion rate')\n",
    "conv_rate_bar.grid(which='minor',axis='y',color='DarkGray',zorder=0)\n",
    "conv_rate_bar.grid(which='major',axis='y',color='k',zorder=0)"
   ]
  },
  {
   "cell_type": "markdown",
   "id": "93469e51-b956-48de-ab3b-10bc44d9b784",
   "metadata": {},
   "source": [
    "It is evident that most ad traffic occurs from the afternoon to the early hours of the night. Conversions follow a similar trend though a distinct feature manifests in this plot. It appears that for two hours in the afternoon (right around or just following lunch) there is an uptick in conversions, comparable in raw numbers and rates to the evening hours."
   ]
  },
  {
   "cell_type": "markdown",
   "id": "82817abd-e4a9-4016-adf7-c60243464a70",
   "metadata": {
    "tags": []
   },
   "source": [
    "## Conversion by device type"
   ]
  },
  {
   "cell_type": "markdown",
   "id": "36aa0ed3-3bac-418e-9a56-cffb4923f926",
   "metadata": {
    "tags": []
   },
   "source": [
    "In this case, the ambiguity of NA values under the conversion column is an obstacle yet again. The objective is to analyze this data under the same \"worst case scenario\" conditions."
   ]
  },
  {
   "cell_type": "code",
   "execution_count": 5,
   "id": "e0b06b85-aaac-4bd8-a199-f606cff7a99c",
   "metadata": {
    "jupyter": {
     "source_hidden": true
    },
    "tags": []
   },
   "outputs": [
    {
     "data": {
      "text/html": [
       "<div>\n",
       "<style scoped>\n",
       "    .dataframe tbody tr th:only-of-type {\n",
       "        vertical-align: middle;\n",
       "    }\n",
       "\n",
       "    .dataframe tbody tr th {\n",
       "        vertical-align: top;\n",
       "    }\n",
       "\n",
       "    .dataframe thead th {\n",
       "        text-align: right;\n",
       "    }\n",
       "</style>\n",
       "<table border=\"1\" class=\"dataframe\">\n",
       "  <thead>\n",
       "    <tr style=\"text-align: right;\">\n",
       "      <th></th>\n",
       "      <th>Impressions</th>\n",
       "      <th>Conversions</th>\n",
       "      <th>conv_rate</th>\n",
       "    </tr>\n",
       "    <tr>\n",
       "      <th>device_type</th>\n",
       "      <th></th>\n",
       "      <th></th>\n",
       "      <th></th>\n",
       "    </tr>\n",
       "  </thead>\n",
       "  <tbody>\n",
       "    <tr>\n",
       "      <th>Game Console</th>\n",
       "      <td>5</td>\n",
       "      <td>0</td>\n",
       "      <td>0.0000</td>\n",
       "    </tr>\n",
       "    <tr>\n",
       "      <th>Highend Phone</th>\n",
       "      <td>104663</td>\n",
       "      <td>2409</td>\n",
       "      <td>0.0230</td>\n",
       "    </tr>\n",
       "    <tr>\n",
       "      <th>Personal Computer</th>\n",
       "      <td>137445</td>\n",
       "      <td>1800</td>\n",
       "      <td>0.0131</td>\n",
       "    </tr>\n",
       "    <tr>\n",
       "      <th>Tablet</th>\n",
       "      <td>7119</td>\n",
       "      <td>159</td>\n",
       "      <td>0.0223</td>\n",
       "    </tr>\n",
       "  </tbody>\n",
       "</table>\n",
       "</div>"
      ],
      "text/plain": [
       "                   Impressions  Conversions  conv_rate\n",
       "device_type                                           \n",
       "Game Console                 5            0     0.0000\n",
       "Highend Phone           104663         2409     0.0230\n",
       "Personal Computer       137445         1800     0.0131\n",
       "Tablet                    7119          159     0.0223"
      ]
     },
     "execution_count": 5,
     "metadata": {},
     "output_type": "execute_result"
    }
   ],
   "source": [
    "dev_type = df[['device_type','conversion']].fillna(0)\n",
    "dev_type['conversion'] = dev_type['conversion'].astype(int)\n",
    "# dev_type.groupby('device_type').value_counts()\n",
    "devices = dev_type.pivot_table(index='device_type',aggfunc={'conversion':[np.sum, len]})\n",
    "devices.columns = ['Impressions','Conversions']\n",
    "devices['conv_rate'] = np.round(devices['Conversions']/devices['Impressions'],4)\n",
    "devices"
   ]
  },
  {
   "cell_type": "code",
   "execution_count": 6,
   "id": "db7858da-2517-422c-95df-d9d14fb24e9e",
   "metadata": {
    "jupyter": {
     "source_hidden": true
    },
    "tags": []
   },
   "outputs": [
    {
     "data": {
      "image/png": "[encoded data removed]",
      "text/plain": [
       "<Figure size 640x480 with 1 Axes>"
      ]
     },
     "metadata": {},
     "output_type": "display_data"
    }
   ],
   "source": [
    "colors= {i:j for i,j in zip(devices.index,['r','b','g','y'])}\n",
    "for i in devices.index:\n",
    "    plt.scatter(x='conv_rate',y='Impressions',s=50,data=devices.loc[i],color =colors[i],label=i)\n",
    "device_conv_scatter = plt.gca()\n",
    "device_conv_scatter.set_yscale('log')\n",
    "device_conv_scatter.xaxis.set_major_formatter(ticker.PercentFormatter(1,decimals=2))\n",
    "device_conv_scatter.set_xlabel('Conversion rate')\n",
    "device_conv_scatter.set_ylabel('# of Impressions (log)')\n",
    "device_conv_scatter.grid(which='major',color='DarkGray',zorder=0)\n",
    "device_conv_scatter.legend();\n"
   ]
  },
  {
   "cell_type": "markdown",
   "id": "e63f888e-8e0f-41c9-b009-684b2f44c19d",
   "metadata": {},
   "source": [
    "Clearly mobile devices, tablets or smartphones, are leading in terms of conversion rates. The sample size for tablets is lower (2 OoM) than that of highend phones but it is still robust. Conversely, data for game consoles is insignificant in volume and no meaningful conclusions can be drawn. Finally, PC users are most represented in terms of raw number of impressions but are the least likely to click-through based on the data (excluding consoles)."
   ]
  },
  {
   "cell_type": "markdown",
   "id": "9c577b1e-e3ea-4902-a9ad-d68f8eb53ffe",
   "metadata": {
    "tags": []
   },
   "source": [
    "# 2. Click-Through Rate"
   ]
  },
  {
   "cell_type": "markdown",
   "id": "ec5ce955-7429-4dda-9e1c-40b340912d7e",
   "metadata": {},
   "source": [
    "To find the most predictive features for conversion, an absolute value of correlation between columns of the dataframe is useful. Categorical columns should be factorized to facilitate calculation of correlations. "
   ]
  },
  {
   "cell_type": "code",
   "execution_count": 7,
   "id": "f1de814c-268f-4052-b2ce-b5ddceaa91e7",
   "metadata": {
    "jupyter": {
     "source_hidden": true
    },
    "tags": []
   },
   "outputs": [
    {
     "data": {
      "text/html": [
       "<div>\n",
       "<style scoped>\n",
       "    .dataframe tbody tr th:only-of-type {\n",
       "        vertical-align: middle;\n",
       "    }\n",
       "\n",
       "    .dataframe tbody tr th {\n",
       "        vertical-align: top;\n",
       "    }\n",
       "\n",
       "    .dataframe thead th {\n",
       "        text-align: right;\n",
       "    }\n",
       "</style>\n",
       "<table border=\"1\" class=\"dataframe\">\n",
       "  <thead>\n",
       "    <tr style=\"text-align: right;\">\n",
       "      <th></th>\n",
       "      <th>cookie_age_seconds</th>\n",
       "      <th>is_wifi</th>\n",
       "      <th>viewability</th>\n",
       "      <th>session_depth</th>\n",
       "      <th>bidded</th>\n",
       "      <th>bid</th>\n",
       "      <th>won_bid</th>\n",
       "      <th>feedback_bid</th>\n",
       "      <th>conversion</th>\n",
       "      <th>local_hour</th>\n",
       "      <th>fact_dev</th>\n",
       "      <th>fact_brand</th>\n",
       "      <th>fact_state</th>\n",
       "      <th>fact_city</th>\n",
       "      <th>fact_lang</th>\n",
       "      <th>fact_ua</th>\n",
       "      <th>fact_domain</th>\n",
       "      <th>fact_url</th>\n",
       "      <th>fact_ad</th>\n",
       "    </tr>\n",
       "  </thead>\n",
       "  <tbody>\n",
       "    <tr>\n",
       "      <th>cookie_age_seconds</th>\n",
       "      <td>1.000000</td>\n",
       "      <td>0.094346</td>\n",
       "      <td>0.005963</td>\n",
       "      <td>0.099197</td>\n",
       "      <td>0.000976</td>\n",
       "      <td>0.030586</td>\n",
       "      <td>0.065373</td>\n",
       "      <td>0.025968</td>\n",
       "      <td>0.004324</td>\n",
       "      <td>0.006554</td>\n",
       "      <td>0.043164</td>\n",
       "      <td>0.024510</td>\n",
       "      <td>0.027047</td>\n",
       "      <td>0.015368</td>\n",
       "      <td>0.001216</td>\n",
       "      <td>0.052993</td>\n",
       "      <td>0.018888</td>\n",
       "      <td>0.010873</td>\n",
       "      <td>0.002864</td>\n",
       "    </tr>\n",
       "    <tr>\n",
       "      <th>is_wifi</th>\n",
       "      <td>0.094346</td>\n",
       "      <td>1.000000</td>\n",
       "      <td>0.000658</td>\n",
       "      <td>0.012658</td>\n",
       "      <td>0.051424</td>\n",
       "      <td>0.032165</td>\n",
       "      <td>0.054453</td>\n",
       "      <td>0.011664</td>\n",
       "      <td>0.008020</td>\n",
       "      <td>0.016043</td>\n",
       "      <td>0.270607</td>\n",
       "      <td>0.195886</td>\n",
       "      <td>0.011772</td>\n",
       "      <td>0.170583</td>\n",
       "      <td>0.008623</td>\n",
       "      <td>0.362903</td>\n",
       "      <td>0.085605</td>\n",
       "      <td>0.064658</td>\n",
       "      <td>0.039595</td>\n",
       "    </tr>\n",
       "    <tr>\n",
       "      <th>viewability</th>\n",
       "      <td>0.005963</td>\n",
       "      <td>0.000658</td>\n",
       "      <td>1.000000</td>\n",
       "      <td>0.036927</td>\n",
       "      <td>0.043073</td>\n",
       "      <td>0.073287</td>\n",
       "      <td>0.020655</td>\n",
       "      <td>0.055631</td>\n",
       "      <td>0.090426</td>\n",
       "      <td>0.020911</td>\n",
       "      <td>0.082286</td>\n",
       "      <td>0.035101</td>\n",
       "      <td>0.012592</td>\n",
       "      <td>0.017338</td>\n",
       "      <td>0.020615</td>\n",
       "      <td>0.017601</td>\n",
       "      <td>0.027894</td>\n",
       "      <td>0.008595</td>\n",
       "      <td>0.027871</td>\n",
       "    </tr>\n",
       "    <tr>\n",
       "      <th>session_depth</th>\n",
       "      <td>0.099197</td>\n",
       "      <td>0.012658</td>\n",
       "      <td>0.036927</td>\n",
       "      <td>1.000000</td>\n",
       "      <td>0.083939</td>\n",
       "      <td>0.035035</td>\n",
       "      <td>0.016615</td>\n",
       "      <td>0.018672</td>\n",
       "      <td>0.036384</td>\n",
       "      <td>0.012834</td>\n",
       "      <td>0.116518</td>\n",
       "      <td>0.074110</td>\n",
       "      <td>0.002633</td>\n",
       "      <td>0.006809</td>\n",
       "      <td>0.008193</td>\n",
       "      <td>0.023845</td>\n",
       "      <td>0.006330</td>\n",
       "      <td>0.113131</td>\n",
       "      <td>0.056204</td>\n",
       "    </tr>\n",
       "    <tr>\n",
       "      <th>bidded</th>\n",
       "      <td>0.000976</td>\n",
       "      <td>0.051424</td>\n",
       "      <td>0.043073</td>\n",
       "      <td>0.083939</td>\n",
       "      <td>1.000000</td>\n",
       "      <td>NaN</td>\n",
       "      <td>NaN</td>\n",
       "      <td>NaN</td>\n",
       "      <td>NaN</td>\n",
       "      <td>0.069373</td>\n",
       "      <td>0.071004</td>\n",
       "      <td>0.052884</td>\n",
       "      <td>0.008172</td>\n",
       "      <td>0.001165</td>\n",
       "      <td>0.039839</td>\n",
       "      <td>0.045709</td>\n",
       "      <td>0.206947</td>\n",
       "      <td>0.366266</td>\n",
       "      <td>0.353804</td>\n",
       "    </tr>\n",
       "    <tr>\n",
       "      <th>bid</th>\n",
       "      <td>0.030586</td>\n",
       "      <td>0.032165</td>\n",
       "      <td>0.073287</td>\n",
       "      <td>0.035035</td>\n",
       "      <td>NaN</td>\n",
       "      <td>1.000000</td>\n",
       "      <td>0.185908</td>\n",
       "      <td>0.307869</td>\n",
       "      <td>0.123856</td>\n",
       "      <td>0.005100</td>\n",
       "      <td>0.126538</td>\n",
       "      <td>0.072559</td>\n",
       "      <td>0.000125</td>\n",
       "      <td>0.004702</td>\n",
       "      <td>0.019231</td>\n",
       "      <td>0.042349</td>\n",
       "      <td>0.276751</td>\n",
       "      <td>0.179921</td>\n",
       "      <td>0.203599</td>\n",
       "    </tr>\n",
       "    <tr>\n",
       "      <th>won_bid</th>\n",
       "      <td>0.065373</td>\n",
       "      <td>0.054453</td>\n",
       "      <td>0.020655</td>\n",
       "      <td>0.016615</td>\n",
       "      <td>NaN</td>\n",
       "      <td>0.185908</td>\n",
       "      <td>1.000000</td>\n",
       "      <td>0.010454</td>\n",
       "      <td>0.246507</td>\n",
       "      <td>0.082107</td>\n",
       "      <td>0.042888</td>\n",
       "      <td>0.028191</td>\n",
       "      <td>0.006939</td>\n",
       "      <td>0.010779</td>\n",
       "      <td>0.009185</td>\n",
       "      <td>0.036606</td>\n",
       "      <td>0.111475</td>\n",
       "      <td>0.119438</td>\n",
       "      <td>0.109419</td>\n",
       "    </tr>\n",
       "    <tr>\n",
       "      <th>feedback_bid</th>\n",
       "      <td>0.025968</td>\n",
       "      <td>0.011664</td>\n",
       "      <td>0.055631</td>\n",
       "      <td>0.018672</td>\n",
       "      <td>NaN</td>\n",
       "      <td>0.307869</td>\n",
       "      <td>0.010454</td>\n",
       "      <td>1.000000</td>\n",
       "      <td>0.025365</td>\n",
       "      <td>0.014406</td>\n",
       "      <td>0.066684</td>\n",
       "      <td>0.037332</td>\n",
       "      <td>0.002992</td>\n",
       "      <td>0.001094</td>\n",
       "      <td>0.009809</td>\n",
       "      <td>0.010398</td>\n",
       "      <td>0.157888</td>\n",
       "      <td>0.094313</td>\n",
       "      <td>0.076925</td>\n",
       "    </tr>\n",
       "    <tr>\n",
       "      <th>conversion</th>\n",
       "      <td>0.004324</td>\n",
       "      <td>0.008020</td>\n",
       "      <td>0.090426</td>\n",
       "      <td>0.036384</td>\n",
       "      <td>NaN</td>\n",
       "      <td>0.123856</td>\n",
       "      <td>0.246507</td>\n",
       "      <td>0.025365</td>\n",
       "      <td>1.000000</td>\n",
       "      <td>0.019844</td>\n",
       "      <td>0.038010</td>\n",
       "      <td>0.012931</td>\n",
       "      <td>0.000950</td>\n",
       "      <td>0.002908</td>\n",
       "      <td>0.002941</td>\n",
       "      <td>0.003970</td>\n",
       "      <td>0.034873</td>\n",
       "      <td>0.065212</td>\n",
       "      <td>0.043405</td>\n",
       "    </tr>\n",
       "    <tr>\n",
       "      <th>local_hour</th>\n",
       "      <td>0.006554</td>\n",
       "      <td>0.016043</td>\n",
       "      <td>0.020911</td>\n",
       "      <td>0.012834</td>\n",
       "      <td>0.069373</td>\n",
       "      <td>0.005100</td>\n",
       "      <td>0.082107</td>\n",
       "      <td>0.014406</td>\n",
       "      <td>0.019844</td>\n",
       "      <td>1.000000</td>\n",
       "      <td>0.020969</td>\n",
       "      <td>0.012330</td>\n",
       "      <td>0.002629</td>\n",
       "      <td>0.010487</td>\n",
       "      <td>0.012974</td>\n",
       "      <td>0.002944</td>\n",
       "      <td>0.050562</td>\n",
       "      <td>0.070661</td>\n",
       "      <td>0.076778</td>\n",
       "    </tr>\n",
       "    <tr>\n",
       "      <th>fact_dev</th>\n",
       "      <td>0.043164</td>\n",
       "      <td>0.270607</td>\n",
       "      <td>0.082286</td>\n",
       "      <td>0.116518</td>\n",
       "      <td>0.071004</td>\n",
       "      <td>0.126538</td>\n",
       "      <td>0.042888</td>\n",
       "      <td>0.066684</td>\n",
       "      <td>0.038010</td>\n",
       "      <td>0.020969</td>\n",
       "      <td>1.000000</td>\n",
       "      <td>0.584252</td>\n",
       "      <td>0.009526</td>\n",
       "      <td>0.022586</td>\n",
       "      <td>0.024749</td>\n",
       "      <td>0.349609</td>\n",
       "      <td>0.254673</td>\n",
       "      <td>0.120104</td>\n",
       "      <td>0.035567</td>\n",
       "    </tr>\n",
       "    <tr>\n",
       "      <th>fact_brand</th>\n",
       "      <td>0.024510</td>\n",
       "      <td>0.195886</td>\n",
       "      <td>0.035101</td>\n",
       "      <td>0.074110</td>\n",
       "      <td>0.052884</td>\n",
       "      <td>0.072559</td>\n",
       "      <td>0.028191</td>\n",
       "      <td>0.037332</td>\n",
       "      <td>0.012931</td>\n",
       "      <td>0.012330</td>\n",
       "      <td>0.584252</td>\n",
       "      <td>1.000000</td>\n",
       "      <td>0.003804</td>\n",
       "      <td>0.022421</td>\n",
       "      <td>0.014924</td>\n",
       "      <td>0.320109</td>\n",
       "      <td>0.157241</td>\n",
       "      <td>0.077226</td>\n",
       "      <td>0.029454</td>\n",
       "    </tr>\n",
       "    <tr>\n",
       "      <th>fact_state</th>\n",
       "      <td>0.027047</td>\n",
       "      <td>0.011772</td>\n",
       "      <td>0.012592</td>\n",
       "      <td>0.002633</td>\n",
       "      <td>0.008172</td>\n",
       "      <td>0.000125</td>\n",
       "      <td>0.006939</td>\n",
       "      <td>0.002992</td>\n",
       "      <td>0.000950</td>\n",
       "      <td>0.002629</td>\n",
       "      <td>0.009526</td>\n",
       "      <td>0.003804</td>\n",
       "      <td>1.000000</td>\n",
       "      <td>0.097848</td>\n",
       "      <td>0.015443</td>\n",
       "      <td>0.004999</td>\n",
       "      <td>0.009564</td>\n",
       "      <td>0.010120</td>\n",
       "      <td>0.006489</td>\n",
       "    </tr>\n",
       "    <tr>\n",
       "      <th>fact_city</th>\n",
       "      <td>0.015368</td>\n",
       "      <td>0.170583</td>\n",
       "      <td>0.017338</td>\n",
       "      <td>0.006809</td>\n",
       "      <td>0.001165</td>\n",
       "      <td>0.004702</td>\n",
       "      <td>0.010779</td>\n",
       "      <td>0.001094</td>\n",
       "      <td>0.002908</td>\n",
       "      <td>0.010487</td>\n",
       "      <td>0.022586</td>\n",
       "      <td>0.022421</td>\n",
       "      <td>0.097848</td>\n",
       "      <td>1.000000</td>\n",
       "      <td>0.011930</td>\n",
       "      <td>0.067396</td>\n",
       "      <td>0.001826</td>\n",
       "      <td>0.005054</td>\n",
       "      <td>0.007633</td>\n",
       "    </tr>\n",
       "    <tr>\n",
       "      <th>fact_lang</th>\n",
       "      <td>0.001216</td>\n",
       "      <td>0.008623</td>\n",
       "      <td>0.020615</td>\n",
       "      <td>0.008193</td>\n",
       "      <td>0.039839</td>\n",
       "      <td>0.019231</td>\n",
       "      <td>0.009185</td>\n",
       "      <td>0.009809</td>\n",
       "      <td>0.002941</td>\n",
       "      <td>0.012974</td>\n",
       "      <td>0.024749</td>\n",
       "      <td>0.014924</td>\n",
       "      <td>0.015443</td>\n",
       "      <td>0.011930</td>\n",
       "      <td>1.000000</td>\n",
       "      <td>0.001329</td>\n",
       "      <td>0.119211</td>\n",
       "      <td>0.064039</td>\n",
       "      <td>0.071472</td>\n",
       "    </tr>\n",
       "    <tr>\n",
       "      <th>fact_ua</th>\n",
       "      <td>0.052993</td>\n",
       "      <td>0.362903</td>\n",
       "      <td>0.017601</td>\n",
       "      <td>0.023845</td>\n",
       "      <td>0.045709</td>\n",
       "      <td>0.042349</td>\n",
       "      <td>0.036606</td>\n",
       "      <td>0.010398</td>\n",
       "      <td>0.003970</td>\n",
       "      <td>0.002944</td>\n",
       "      <td>0.349609</td>\n",
       "      <td>0.320109</td>\n",
       "      <td>0.004999</td>\n",
       "      <td>0.067396</td>\n",
       "      <td>0.001329</td>\n",
       "      <td>1.000000</td>\n",
       "      <td>0.080088</td>\n",
       "      <td>0.037545</td>\n",
       "      <td>0.008077</td>\n",
       "    </tr>\n",
       "    <tr>\n",
       "      <th>fact_domain</th>\n",
       "      <td>0.018888</td>\n",
       "      <td>0.085605</td>\n",
       "      <td>0.027894</td>\n",
       "      <td>0.006330</td>\n",
       "      <td>0.206947</td>\n",
       "      <td>0.276751</td>\n",
       "      <td>0.111475</td>\n",
       "      <td>0.157888</td>\n",
       "      <td>0.034873</td>\n",
       "      <td>0.050562</td>\n",
       "      <td>0.254673</td>\n",
       "      <td>0.157241</td>\n",
       "      <td>0.009564</td>\n",
       "      <td>0.001826</td>\n",
       "      <td>0.119211</td>\n",
       "      <td>0.080088</td>\n",
       "      <td>1.000000</td>\n",
       "      <td>0.510692</td>\n",
       "      <td>0.527434</td>\n",
       "    </tr>\n",
       "    <tr>\n",
       "      <th>fact_url</th>\n",
       "      <td>0.010873</td>\n",
       "      <td>0.064658</td>\n",
       "      <td>0.008595</td>\n",
       "      <td>0.113131</td>\n",
       "      <td>0.366266</td>\n",
       "      <td>0.179921</td>\n",
       "      <td>0.119438</td>\n",
       "      <td>0.094313</td>\n",
       "      <td>0.065212</td>\n",
       "      <td>0.070661</td>\n",
       "      <td>0.120104</td>\n",
       "      <td>0.077226</td>\n",
       "      <td>0.010120</td>\n",
       "      <td>0.005054</td>\n",
       "      <td>0.064039</td>\n",
       "      <td>0.037545</td>\n",
       "      <td>0.510692</td>\n",
       "      <td>1.000000</td>\n",
       "      <td>0.564746</td>\n",
       "    </tr>\n",
       "    <tr>\n",
       "      <th>fact_ad</th>\n",
       "      <td>0.002864</td>\n",
       "      <td>0.039595</td>\n",
       "      <td>0.027871</td>\n",
       "      <td>0.056204</td>\n",
       "      <td>0.353804</td>\n",
       "      <td>0.203599</td>\n",
       "      <td>0.109419</td>\n",
       "      <td>0.076925</td>\n",
       "      <td>0.043405</td>\n",
       "      <td>0.076778</td>\n",
       "      <td>0.035567</td>\n",
       "      <td>0.029454</td>\n",
       "      <td>0.006489</td>\n",
       "      <td>0.007633</td>\n",
       "      <td>0.071472</td>\n",
       "      <td>0.008077</td>\n",
       "      <td>0.527434</td>\n",
       "      <td>0.564746</td>\n",
       "      <td>1.000000</td>\n",
       "    </tr>\n",
       "  </tbody>\n",
       "</table>\n",
       "</div>"
      ],
      "text/plain": [
       "                    cookie_age_seconds   is_wifi  viewability  session_depth  \\\n",
       "cookie_age_seconds            1.000000  0.094346     0.005963       0.099197   \n",
       "is_wifi                       0.094346  1.000000     0.000658       0.012658   \n",
       "viewability                   0.005963  0.000658     1.000000       0.036927   \n",
       "session_depth                 0.099197  0.012658     0.036927       1.000000   \n",
       "bidded                        0.000976  0.051424     0.043073       0.083939   \n",
       "bid                           0.030586  0.032165     0.073287       0.035035   \n",
       "won_bid                       0.065373  0.054453     0.020655       0.016615   \n",
       "feedback_bid                  0.025968  0.011664     0.055631       0.018672   \n",
       "conversion                    0.004324  0.008020     0.090426       0.036384   \n",
       "local_hour                    0.006554  0.016043     0.020911       0.012834   \n",
       "fact_dev                      0.043164  0.270607     0.082286       0.116518   \n",
       "fact_brand                    0.024510  0.195886     0.035101       0.074110   \n",
       "fact_state                    0.027047  0.011772     0.012592       0.002633   \n",
       "fact_city                     0.015368  0.170583     0.017338       0.006809   \n",
       "fact_lang                     0.001216  0.008623     0.020615       0.008193   \n",
       "fact_ua                       0.052993  0.362903     0.017601       0.023845   \n",
       "fact_domain                   0.018888  0.085605     0.027894       0.006330   \n",
       "fact_url                      0.010873  0.064658     0.008595       0.113131   \n",
       "fact_ad                       0.002864  0.039595     0.027871       0.056204   \n",
       "\n",
       "                      bidded       bid   won_bid  feedback_bid  conversion  \\\n",
       "cookie_age_seconds  0.000976  0.030586  0.065373      0.025968    0.004324   \n",
       "is_wifi             0.051424  0.032165  0.054453      0.011664    0.008020   \n",
       "viewability         0.043073  0.073287  0.020655      0.055631    0.090426   \n",
       "session_depth       0.083939  0.035035  0.016615      0.018672    0.036384   \n",
       "bidded              1.000000       NaN       NaN           NaN         NaN   \n",
       "bid                      NaN  1.000000  0.185908      0.307869    0.123856   \n",
       "won_bid                  NaN  0.185908  1.000000      0.010454    0.246507   \n",
       "feedback_bid             NaN  0.307869  0.010454      1.000000    0.025365   \n",
       "conversion               NaN  0.123856  0.246507      0.025365    1.000000   \n",
       "local_hour          0.069373  0.005100  0.082107      0.014406    0.019844   \n",
       "fact_dev            0.071004  0.126538  0.042888      0.066684    0.038010   \n",
       "fact_brand          0.052884  0.072559  0.028191      0.037332    0.012931   \n",
       "fact_state          0.008172  0.000125  0.006939      0.002992    0.000950   \n",
       "fact_city           0.001165  0.004702  0.010779      0.001094    0.002908   \n",
       "fact_lang           0.039839  0.019231  0.009185      0.009809    0.002941   \n",
       "fact_ua             0.045709  0.042349  0.036606      0.010398    0.003970   \n",
       "fact_domain         0.206947  0.276751  0.111475      0.157888    0.034873   \n",
       "fact_url            0.366266  0.179921  0.119438      0.094313    0.065212   \n",
       "fact_ad             0.353804  0.203599  0.109419      0.076925    0.043405   \n",
       "\n",
       "                    local_hour  fact_dev  fact_brand  fact_state  fact_city  \\\n",
       "cookie_age_seconds    0.006554  0.043164    0.024510    0.027047   0.015368   \n",
       "is_wifi               0.016043  0.270607    0.195886    0.011772   0.170583   \n",
       "viewability           0.020911  0.082286    0.035101    0.012592   0.017338   \n",
       "session_depth         0.012834  0.116518    0.074110    0.002633   0.006809   \n",
       "bidded                0.069373  0.071004    0.052884    0.008172   0.001165   \n",
       "bid                   0.005100  0.126538    0.072559    0.000125   0.004702   \n",
       "won_bid               0.082107  0.042888    0.028191    0.006939   0.010779   \n",
       "feedback_bid          0.014406  0.066684    0.037332    0.002992   0.001094   \n",
       "conversion            0.019844  0.038010    0.012931    0.000950   0.002908   \n",
       "local_hour            1.000000  0.020969    0.012330    0.002629   0.010487   \n",
       "fact_dev              0.020969  1.000000    0.584252    0.009526   0.022586   \n",
       "fact_brand            0.012330  0.584252    1.000000    0.003804   0.022421   \n",
       "fact_state            0.002629  0.009526    0.003804    1.000000   0.097848   \n",
       "fact_city             0.010487  0.022586    0.022421    0.097848   1.000000   \n",
       "fact_lang             0.012974  0.024749    0.014924    0.015443   0.011930   \n",
       "fact_ua               0.002944  0.349609    0.320109    0.004999   0.067396   \n",
       "fact_domain           0.050562  0.254673    0.157241    0.009564   0.001826   \n",
       "fact_url              0.070661  0.120104    0.077226    0.010120   0.005054   \n",
       "fact_ad               0.076778  0.035567    0.029454    0.006489   0.007633   \n",
       "\n",
       "                    fact_lang   fact_ua  fact_domain  fact_url   fact_ad  \n",
       "cookie_age_seconds   0.001216  0.052993     0.018888  0.010873  0.002864  \n",
       "is_wifi              0.008623  0.362903     0.085605  0.064658  0.039595  \n",
       "viewability          0.020615  0.017601     0.027894  0.008595  0.027871  \n",
       "session_depth        0.008193  0.023845     0.006330  0.113131  0.056204  \n",
       "bidded               0.039839  0.045709     0.206947  0.366266  0.353804  \n",
       "bid                  0.019231  0.042349     0.276751  0.179921  0.203599  \n",
       "won_bid              0.009185  0.036606     0.111475  0.119438  0.109419  \n",
       "feedback_bid         0.009809  0.010398     0.157888  0.094313  0.076925  \n",
       "conversion           0.002941  0.003970     0.034873  0.065212  0.043405  \n",
       "local_hour           0.012974  0.002944     0.050562  0.070661  0.076778  \n",
       "fact_dev             0.024749  0.349609     0.254673  0.120104  0.035567  \n",
       "fact_brand           0.014924  0.320109     0.157241  0.077226  0.029454  \n",
       "fact_state           0.015443  0.004999     0.009564  0.010120  0.006489  \n",
       "fact_city            0.011930  0.067396     0.001826  0.005054  0.007633  \n",
       "fact_lang            1.000000  0.001329     0.119211  0.064039  0.071472  \n",
       "fact_ua              0.001329  1.000000     0.080088  0.037545  0.008077  \n",
       "fact_domain          0.119211  0.080088     1.000000  0.510692  0.527434  \n",
       "fact_url             0.064039  0.037545     0.510692  1.000000  0.564746  \n",
       "fact_ad              0.071472  0.008077     0.527434  0.564746  1.000000  "
      ]
     },
     "execution_count": 7,
     "metadata": {},
     "output_type": "execute_result"
    }
   ],
   "source": [
    "df[['fact_dev','fact_brand','fact_state','fact_city','fact_lang','fact_ua','fact_domain','fact_url','fact_ad']] = df[['device_type','device_brand','state_code','city','detected_language','user_agent','domain','url','ad_slot']].apply(lambda x: x.factorize()[0])\n",
    "\n",
    "conv_corr = df.corr().abs()\n",
    "conv_corr"
   ]
  },
  {
   "cell_type": "code",
   "execution_count": 8,
   "id": "690ec43d-b198-493f-9a03-17abd744405d",
   "metadata": {
    "jupyter": {
     "source_hidden": true
    },
    "tags": []
   },
   "outputs": [
    {
     "data": {
      "text/plain": [
       "conversion            1.000000\n",
       "won_bid               0.246507\n",
       "bid                   0.123856\n",
       "viewability           0.090426\n",
       "fact_url              0.065212\n",
       "fact_ad               0.043405\n",
       "fact_dev              0.038010\n",
       "session_depth         0.036384\n",
       "fact_domain           0.034873\n",
       "feedback_bid          0.025365\n",
       "local_hour            0.019844\n",
       "fact_brand            0.012931\n",
       "is_wifi               0.008020\n",
       "cookie_age_seconds    0.004324\n",
       "fact_ua               0.003970\n",
       "fact_lang             0.002941\n",
       "fact_city             0.002908\n",
       "fact_state            0.000950\n",
       "Name: conversion, dtype: float64"
      ]
     },
     "execution_count": 8,
     "metadata": {},
     "output_type": "execute_result"
    }
   ],
   "source": [
    "conv_corr['conversion'].sort_values(ascending=False).dropna()"
   ]
  },
  {
   "cell_type": "markdown",
   "id": "93061a03-0f23-425a-b8a5-ca2fb3befe38",
   "metadata": {},
   "source": [
    "Extraction of the conversion column in the correlation matrix, in descending order, yields the most predictive numerical features in the dataset. The first actual feature provided before the auction is closed is viewability, it is the strongest numerical predictor of click-through in this dataset, following it the URL and ad slot columns are next in line, and so forth. It is worth noting that several features are actually provided post-auction and are therefore not under consideration for predictors. "
   ]
  },
  {
   "cell_type": "markdown",
   "id": "f3418acb-a76c-474b-a60b-5c88db41740b",
   "metadata": {
    "tags": []
   },
   "source": [
    "# 3. Pre-bid Prediction"
   ]
  },
  {
   "cell_type": "markdown",
   "id": "05126e6a-1cd1-4944-979f-0278fc6ed35d",
   "metadata": {},
   "source": [
    "We first filter our records to ones for which we have auction data, that is ones on which we've placed a bid. Each URL and ad slot pair uses a single auction type exclusively, these should be analyzed seperately."
   ]
  },
  {
   "cell_type": "markdown",
   "id": "a30a2ba7-98f7-45ce-ad02-05507d11947b",
   "metadata": {},
   "source": [
    "## Second Price Auction"
   ]
  },
  {
   "cell_type": "markdown",
   "id": "68e322d5-1cb9-4c4f-b152-0f4750f828a2",
   "metadata": {},
   "source": [
    "In a second price auction the feedback is always the winning bid, this can be used to generate a distribution from which one can extract the probability of a bid winning for a given url/slot pair. Using frequencies of values in ranges the probability of a bid winning can be estimated."
   ]
  },
  {
   "cell_type": "markdown",
   "id": "0b16f04f-abf9-43f7-bdaa-7662a6eeb62c",
   "metadata": {},
   "source": [
    "## First Price Auction"
   ]
  },
  {
   "cell_type": "markdown",
   "id": "45e62812-a76c-4998-9744-7fc0f9c3d853",
   "metadata": {},
   "source": [
    "In a first price auction the feedback changes based on the winning status of the auction.\n",
    "The distribution would be based on the feedback such that the winning bid is taken as is if we were outbidded in the auction. Otherwise, if we won the auction, the feedback is the next highest bid. Therefore the feedback amount plus the minimum bid increment is the real winning bid. After the above described process is performed the distribution may be found in the same way as in second price auctions."
   ]
  }
 ],
 "metadata": {
  "kernelspec": {
   "display_name": "Python 3 (ipykernel)",
   "language": "python",
   "name": "python3"
  },
  "language_info": {
   "codemirror_mode": {
    "name": "ipython",
    "version": 3
   },
   "file_extension": ".py",
   "mimetype": "text/x-python",
   "name": "python",
   "nbconvert_exporter": "python",
   "pygments_lexer": "ipython3",
   "version": "3.9.6"
  }
 },
 "nbformat": 4,
 "nbformat_minor": 5
}

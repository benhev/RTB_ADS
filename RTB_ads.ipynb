{
 "cells": [
  {
   "cell_type": "code",
   "execution_count": 3,
   "id": "c4b47586",
   "metadata": {},
   "outputs": [],
   "source": [
    "import numpy as np\n",
    "import pandas as pd\n",
    "from us import states\n",
    "\n",
    "def to_int(arg: str):\n",
    "    try:\n",
    "        return int(arg.removesuffix('.0'))\n",
    "    except ValueError:\n",
    "        return arg"
   ]
  },
  {
   "cell_type": "code",
   "execution_count": 4,
   "id": "19313bee",
   "metadata": {},
   "outputs": [],
   "source": [
    "with open('data_assignment.csv', newline='', encoding='utf8') as file:\n",
    "    df = pd.read_csv(file, header=0, dtype={'postal_code': str}, parse_dates=['time'])\n",
    "df = df.fillna('')\n",
    "df['postal_code'] = df['postal_code'].apply(to_int)\n",
    "df['local_time'] = df.apply(\n",
    "    lambda x: x['time'].astimezone(states.lookup(x['state_code']).time_zones[0]) if x['state_code'] != '' else '',\n",
    "    axis=1)"
   ]
  },
  {
   "cell_type": "code",
   "execution_count": null,
   "id": "ee375ed5",
   "metadata": {},
   "outputs": [],
   "source": []
  }
 ],
 "metadata": {
  "kernelspec": {
   "display_name": "Python 3 (ipykernel)",
   "language": "python",
   "name": "python3"
  },
  "language_info": {
   "codemirror_mode": {
    "name": "ipython",
    "version": 3
   },
   "file_extension": ".py",
   "mimetype": "text/x-python",
   "name": "python",
   "nbconvert_exporter": "python",
   "pygments_lexer": "ipython3",
   "version": "3.9.6"
  }
 },
 "nbformat": 4,
 "nbformat_minor": 5
}
